{
 "cells": [
  {
   "cell_type": "code",
   "execution_count": 1,
   "metadata": {},
   "outputs": [
    {
     "data": {
      "text/plain": [
       "'d:\\\\hardhat\\\\KAGGLE\\\\NLP Disaster Tweets'"
      ]
     },
     "execution_count": 1,
     "metadata": {},
     "output_type": "execute_result"
    }
   ],
   "source": [
    "import os\n",
    "os.getcwd()"
   ]
  },
  {
   "cell_type": "code",
   "execution_count": 2,
   "metadata": {},
   "outputs": [
    {
     "name": "stdout",
     "output_type": "stream",
     "text": [
      "Starting training...\n",
      "Training completed!\n",
      "Validation Accuracy: 0.7800393959290873\n",
      "Validation F1 Score: 0.7304907481898633\n",
      "Submission file created!\n"
     ]
    }
   ],
   "source": [
    "import pandas as pd\n",
    "import numpy as np\n",
    "from sklearn.model_selection import train_test_split\n",
    "from sklearn.feature_extraction.text import TfidfVectorizer\n",
    "from sklearn.pipeline import Pipeline\n",
    "from sklearn.linear_model import LogisticRegression\n",
    "from sklearn.metrics import accuracy_score, f1_score\n",
    "\n",
    "# Load the data\n",
    "train = pd.read_csv('train.csv')\n",
    "test = pd.read_csv('test.csv')\n",
    "sample_submission = pd.read_csv('sample_submission.csv')\n",
    "\n",
    "# Fill missing values\n",
    "train['keyword'].fillna('', inplace=True)\n",
    "train['location'].fillna('', inplace=True)\n",
    "test['keyword'].fillna('', inplace=True)\n",
    "test['location'].fillna('', inplace=True)\n",
    "\n",
    "# Combine text, keyword, and location for better context\n",
    "train['text'] = train['text'] + ' ' + train['keyword'] + ' ' + train['location']\n",
    "test['text'] = test['text'] + ' ' + test['keyword'] + ' ' + test['location']\n",
    "\n",
    "# Split the data\n",
    "X = train['text']\n",
    "y = train['target']\n",
    "X_train, X_val, y_train, y_val = train_test_split(X, y, test_size=0.2, random_state=42)\n",
    "\n",
    "# Create a pipeline with TfidfVectorizer and LogisticRegression\n",
    "pipeline = Pipeline([\n",
    "    ('tfidf', TfidfVectorizer(stop_words='english')),\n",
    "    ('clf', LogisticRegression())\n",
    "])\n",
    "\n",
    "# Train the model\n",
    "print('Starting training...')\n",
    "pipeline.fit(X_train, y_train)\n",
    "print('Training completed!')\n",
    "\n",
    "# Evaluate the model\n",
    "y_pred = pipeline.predict(X_val)\n",
    "accuracy = accuracy_score(y_val, y_pred)\n",
    "f1 = f1_score(y_val, y_pred)\n",
    "\n",
    "print(f'Validation Accuracy: {accuracy}')\n",
    "print(f'Validation F1 Score: {f1}')\n",
    "\n",
    "# Predict on the test set\n",
    "test_predictions = pipeline.predict(test['text'])\n",
    "\n",
    "# Prepare the submission file\n",
    "submission = sample_submission.copy()\n",
    "submission['target'] = test_predictions\n",
    "submission.to_csv('submission.csv', index=False)\n",
    "\n",
    "print('Submission file created!')\n"
   ]
  }
 ],
 "metadata": {
  "kernelspec": {
   "display_name": "Python 3",
   "language": "python",
   "name": "python3"
  },
  "language_info": {
   "codemirror_mode": {
    "name": "ipython",
    "version": 3
   },
   "file_extension": ".py",
   "mimetype": "text/x-python",
   "name": "python",
   "nbconvert_exporter": "python",
   "pygments_lexer": "ipython3",
   "version": "3.11.4"
  }
 },
 "nbformat": 4,
 "nbformat_minor": 2
}
