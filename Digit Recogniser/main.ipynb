{
 "cells": [
  {
   "cell_type": "code",
   "execution_count": 1,
   "metadata": {},
   "outputs": [
    {
     "data": {
      "text/plain": [
       "'d:\\\\hardhat\\\\KAGGLE\\\\Digit Recogniser'"
      ]
     },
     "execution_count": 1,
     "metadata": {},
     "output_type": "execute_result"
    }
   ],
   "source": [
    "import os\n",
    "os.getcwd()"
   ]
  },
  {
   "cell_type": "code",
   "execution_count": 3,
   "metadata": {},
   "outputs": [
    {
     "name": "stdout",
     "output_type": "stream",
     "text": [
      "WARNING:tensorflow:From c:\\Users\\soni\\AppData\\Local\\Programs\\Python\\Python311\\Lib\\site-packages\\keras\\src\\backend.py:873: The name tf.get_default_graph is deprecated. Please use tf.compat.v1.get_default_graph instead.\n",
      "\n",
      "WARNING:tensorflow:From c:\\Users\\soni\\AppData\\Local\\Programs\\Python\\Python311\\Lib\\site-packages\\keras\\src\\layers\\pooling\\max_pooling2d.py:161: The name tf.nn.max_pool is deprecated. Please use tf.nn.max_pool2d instead.\n",
      "\n",
      "WARNING:tensorflow:From c:\\Users\\soni\\AppData\\Local\\Programs\\Python\\Python311\\Lib\\site-packages\\keras\\src\\optimizers\\__init__.py:309: The name tf.train.Optimizer is deprecated. Please use tf.compat.v1.train.Optimizer instead.\n",
      "\n",
      "Epoch 1/10\n",
      "WARNING:tensorflow:From c:\\Users\\soni\\AppData\\Local\\Programs\\Python\\Python311\\Lib\\site-packages\\keras\\src\\utils\\tf_utils.py:492: The name tf.ragged.RaggedTensorValue is deprecated. Please use tf.compat.v1.ragged.RaggedTensorValue instead.\n",
      "\n",
      "WARNING:tensorflow:From c:\\Users\\soni\\AppData\\Local\\Programs\\Python\\Python311\\Lib\\site-packages\\keras\\src\\engine\\base_layer_utils.py:384: The name tf.executing_eagerly_outside_functions is deprecated. Please use tf.compat.v1.executing_eagerly_outside_functions instead.\n",
      "\n",
      "1050/1050 [==============================] - 129s 93ms/step - loss: 0.1746 - accuracy: 0.9468 - val_loss: 0.0864 - val_accuracy: 0.9733\n",
      "Epoch 2/10\n",
      "1050/1050 [==============================] - 92s 88ms/step - loss: 0.0530 - accuracy: 0.9832 - val_loss: 0.0448 - val_accuracy: 0.9856\n",
      "Epoch 3/10\n",
      "1050/1050 [==============================] - 93s 88ms/step - loss: 0.0348 - accuracy: 0.9888 - val_loss: 0.0530 - val_accuracy: 0.9827\n",
      "Epoch 4/10\n",
      "1050/1050 [==============================] - 86s 82ms/step - loss: 0.0264 - accuracy: 0.9916 - val_loss: 0.0435 - val_accuracy: 0.9882\n",
      "Epoch 5/10\n",
      "1050/1050 [==============================] - 80s 76ms/step - loss: 0.0186 - accuracy: 0.9937 - val_loss: 0.0486 - val_accuracy: 0.9857\n",
      "Epoch 6/10\n",
      "1050/1050 [==============================] - 80s 77ms/step - loss: 0.0137 - accuracy: 0.9958 - val_loss: 0.0515 - val_accuracy: 0.9875\n",
      "Epoch 7/10\n",
      "1050/1050 [==============================] - 87s 83ms/step - loss: 0.0127 - accuracy: 0.9960 - val_loss: 0.0506 - val_accuracy: 0.9880\n",
      "Epoch 8/10\n",
      "1050/1050 [==============================] - 95s 91ms/step - loss: 0.0099 - accuracy: 0.9970 - val_loss: 0.0395 - val_accuracy: 0.9901\n",
      "Epoch 9/10\n",
      "1050/1050 [==============================] - 88s 84ms/step - loss: 0.0086 - accuracy: 0.9972 - val_loss: 0.0474 - val_accuracy: 0.9894\n",
      "Epoch 10/10\n",
      "1050/1050 [==============================] - 88s 84ms/step - loss: 0.0059 - accuracy: 0.9984 - val_loss: 0.0520 - val_accuracy: 0.9905\n",
      "875/875 [==============================] - 30s 31ms/step\n"
     ]
    }
   ],
   "source": [
    "import pandas as pd\n",
    "import numpy as np\n",
    "import tensorflow as tf\n",
    "from tensorflow.keras.models import Sequential\n",
    "from tensorflow.keras.layers import Dense, Flatten, Conv2D, MaxPooling2D\n",
    "from tensorflow.keras.utils import to_categorical\n",
    "\n",
    "# Load the training and test data\n",
    "train_data = pd.read_csv('train.csv')\n",
    "test_data = pd.read_csv('test.csv')\n",
    "\n",
    "# Separate features and labels\n",
    "X_train = train_data.iloc[:, 1:].values\n",
    "y_train = train_data.iloc[:, 0].values\n",
    "X_test = test_data.values\n",
    "\n",
    "# Normalize the pixel values to the range [0, 1]\n",
    "X_train = X_train / 255.0\n",
    "X_test = X_test / 255.0\n",
    "\n",
    "# Reshape the data to fit the model (28x28 images with 1 color channel)\n",
    "X_train = X_train.reshape(-1, 28, 28, 1)\n",
    "X_test = X_test.reshape(-1, 28, 28, 1)\n",
    "\n",
    "# Convert the labels to one-hot encoding\n",
    "y_train = to_categorical(y_train, 10)\n",
    "\n",
    "# Build the CNN model\n",
    "model = Sequential([\n",
    "    Conv2D(32, kernel_size=(3, 3), activation='relu', input_shape=(28, 28, 1)),\n",
    "    MaxPooling2D(pool_size=(2, 2)),\n",
    "    Conv2D(64, kernel_size=(3, 3), activation='relu'),\n",
    "    MaxPooling2D(pool_size=(2, 2)),\n",
    "    Flatten(),\n",
    "    Dense(128, activation='relu'),\n",
    "    Dense(10, activation='softmax')\n",
    "])\n",
    "\n",
    "# Compile the model\n",
    "model.compile(optimizer='adam',\n",
    "              loss='categorical_crossentropy',\n",
    "              metrics=['accuracy'])\n",
    "\n",
    "# Train the model\n",
    "model.fit(X_train, y_train, epochs=10, batch_size=32, validation_split=0.2)\n",
    "\n",
    "# Make predictions on the test set\n",
    "predictions = model.predict(X_test)\n",
    "\n",
    "# Convert predictions from one-hot encoding to label\n",
    "predicted_labels = np.argmax(predictions, axis=1)\n",
    "\n",
    "# Prepare the submission dataframe\n",
    "submission_df = pd.DataFrame({\n",
    "    'ImageId': np.arange(1, len(predicted_labels) + 1),\n",
    "    'Label': predicted_labels\n",
    "})\n",
    "\n",
    "# Save the submission dataframe to a CSV file\n",
    "submission_df.to_csv('submission.csv', index=False)\n"
   ]
  }
 ],
 "metadata": {
  "kernelspec": {
   "display_name": "Python 3",
   "language": "python",
   "name": "python3"
  },
  "language_info": {
   "codemirror_mode": {
    "name": "ipython",
    "version": 3
   },
   "file_extension": ".py",
   "mimetype": "text/x-python",
   "name": "python",
   "nbconvert_exporter": "python",
   "pygments_lexer": "ipython3",
   "version": "3.11.4"
  }
 },
 "nbformat": 4,
 "nbformat_minor": 2
}
